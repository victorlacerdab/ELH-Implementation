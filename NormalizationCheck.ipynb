{
 "cells": [
  {
   "cell_type": "code",
   "execution_count": 2,
   "metadata": {},
   "outputs": [
    {
     "name": "stderr",
     "output_type": "stream",
     "text": [
      "* Owlready2 * Warning: optimized Cython parser module 'owlready2_optimized' is not available, defaulting to slower Python implementation\n",
      "\n",
      "Warning: SQLite3 version 3.40.0 and 3.41.2 have huge performance regressions; please install version 3.41.1 or 3.42!\n",
      "\n"
     ]
    }
   ],
   "source": [
    "import owlready2 as owl\n",
    "from owlready2 import *\n",
    "\n",
    "import types\n",
    "from types import NoneType\n",
    "\n",
    "import numpy as np\n",
    "import matplotlib.pyplot as plt\n",
    "import os\n",
    "from datetime import datetime\n",
    "import random"
   ]
  },
  {
   "cell_type": "code",
   "execution_count": 3,
   "metadata": {},
   "outputs": [],
   "source": [
    "# dir = '/Users/victorlacerda/Documents/VSCode/ELH Implementation/NormalizedOntologies/goslimyeast.xml.owl'\n",
    "# dir = '/Users/victorlacerda/Documents/VSCode/ELH Implementation/NormalizedOntologies/galennorm.xml.owl'\n",
    "# dir = '/Users/victorlacerda/Documents/VSCode/ELH Implementation/NormalizedOntologies/gonorm.xml.owl'\n",
    "# dir = '/Users/victorlacerda/Documents/VSCode/ELH Implementation/NormalizedOntologies/'\n",
    "# dir = '/Users/victorlacerda/Documents/VSCode/ELH Implementation/NormalizedOntologies/family_ontology.owl'\n",
    "# dir = '/Users/victorlacerda/Desktop/dbpedia15k.owl'\n"
   ]
  },
  {
   "cell_type": "code",
   "execution_count": 4,
   "metadata": {},
   "outputs": [],
   "source": [
    "'''\n",
    "Functions for checking whether\n",
    "a given General Class Axiom is \n",
    "in normal form. GCAs only have\n",
    "constructs on the left side of\n",
    "the inclusion.\n",
    "'''\n",
    "\n",
    "# Normal Form 0: A subsumed by B\n",
    "\n",
    "def is_nf0(tbox_axiom):\n",
    "\n",
    "    axiom_left_side = tbox_axiom.left_side\n",
    "    axiom_right_side = tbox_axiom.is_a\n",
    "\n",
    "    if type(axiom_left_side) != ThingClass:\n",
    "        return False\n",
    "    else:\n",
    "        check = (len(axiom_right_side) == 1 and\n",
    "                 type(axiom_right_side[0]) == ThingClass\n",
    "                )\n",
    "    return check\n",
    "\n",
    "# Normal Form 1: A1 and A2 subsumed by B with A1, A2 and B in N_C.\n",
    "\n",
    "def is_nf1(tbox_axiom):\n",
    "    \n",
    "    axiom_left_side = tbox_axiom.left_side\n",
    "    axiom_right_side = tbox_axiom.is_a\n",
    "\n",
    "    if type(axiom_left_side) != And:\n",
    "        return False\n",
    "    else:\n",
    "        check = (len(axiom_left_side.Classes) == 2 and\n",
    "                type(axiom_left_side) == And and\n",
    "                all(type(cls) == ThingClass for cls in axiom_left_side.Classes) and\n",
    "                len(axiom_right_side) == 1 and\n",
    "                type(axiom_right_side[0]) == ThingClass\n",
    "                )\n",
    "    \n",
    "    return check\n",
    "\n",
    "# Normal Form 2: \\exists r.A subsumed by B, where A and B \\in N_C and r \\in N_R.\n",
    "\n",
    "def is_nf2(tbox_axiom):\n",
    "    \n",
    "    axiom_left_side = tbox_axiom.left_side\n",
    "    axiom_right_side = tbox_axiom.is_a\n",
    "\n",
    "    if type(axiom_left_side) != Restriction:\n",
    "        return False\n",
    "    else:\n",
    "        check = (axiom_left_side.type == SOME and\n",
    "                type(axiom_left_side.value) == ThingClass and\n",
    "                len(axiom_right_side) == 1 and\n",
    "                type(axiom_right_side[0]) == ThingClass\n",
    "                )\n",
    "    \n",
    "    return check\n",
    "\n",
    "# Normal Form 3: A subsumed by \\exists r.B, where A and B \\in N_C and r \\in N_R.\n",
    "\n",
    "def is_nf3(tbox_axiom):\n",
    "\n",
    "    axiom_left_side = tbox_axiom.left_side\n",
    "    axiom_right_side = tbox_axiom.is_a\n",
    "\n",
    "    if type(axiom_left_side) != ThingClass:\n",
    "        return False\n",
    "    else:\n",
    "\n",
    "        check = (len(axiom_left_side.Classes) == 1 and\n",
    "                type(axiom_left_side.Classes[0]) == ThingClass and\n",
    "                len(axiom_right_side.Classes) == 1 and\n",
    "                type(axiom_right_side[0]) == Restriction and\n",
    "                axiom_right_side[0].type == SOME and\n",
    "                type(axiom_right_side[0].value) == ThingClass\n",
    "                )\n",
    "    \n",
    "    return check"
   ]
  },
  {
   "cell_type": "code",
   "execution_count": 5,
   "metadata": {},
   "outputs": [],
   "source": [
    "def check_gcas_normalized(ontology):\n",
    "\n",
    "    gcas_iter = ontology.general_class_axioms()\n",
    "    counter = 0\n",
    "    \n",
    "    for tbox_axiom in gcas_iter:\n",
    "        if is_nf0(tbox_axiom) or is_nf1(tbox_axiom) or is_nf2(tbox_axiom) or is_nf3(tbox_axiom):\n",
    "            counter += 1\n",
    "        else:\n",
    "            print('Error')\n",
    "            break\n",
    "    \n",
    "    print('')\n",
    "    print('The ontologys General Class Axioms are in normal form.')\n",
    "    print(f'All {counter} General Class Axioms were checked.')\n",
    "    return True\n"
   ]
  },
  {
   "cell_type": "code",
   "execution_count": 6,
   "metadata": {},
   "outputs": [],
   "source": [
    "'''\n",
    "Functions for checking whether\n",
    "a concept inclusion is in normal\n",
    "form. Concept inclusions only\n",
    "have concept names (classes of\n",
    "type ThingClass) on their left\n",
    "side.\n",
    "'''\n",
    "\n",
    "def check_subclassof_normalized(ontology):\n",
    "\n",
    "    classes = ontology.classes()\n",
    "    counter = 0\n",
    "\n",
    "    for concept_name in classes:\n",
    "        axiom_right_side = list(concept_name.is_a) # We do not need to check the left side as it is guaranteed to be a concept name.\n",
    "\n",
    "        for concept in axiom_right_side:\n",
    "            \n",
    "            if type(concept) == And:\n",
    "                print('The ontology is not normalized.')\n",
    "                print('Found axiom of the type A \\sqsubseteq C \\sqcap D.')\n",
    "                break\n",
    "            \n",
    "            elif type(concept) == Restriction and type(concept.value) != ThingClass:\n",
    "                print('The ontology is not normalized')\n",
    "                print('Found axiom of the type A \\sqsubseteq \\exists r.C, where C is complex.')\n",
    "                break\n",
    "\n",
    "            elif type(concept) == Restriction and type(concept.value) == ThingClass:\n",
    "                counter += 1\n",
    "                pass\n",
    "\n",
    "            elif type(concept) == ThingClass:\n",
    "                counter += 1\n",
    "                pass\n",
    "    \n",
    "    print('')\n",
    "    print(f'The ontologys concept inclusions are normalized.')\n",
    "    print(f'All {counter} concept inclusions with concept names on the left side have been checked.')\n",
    "    return True            "
   ]
  },
  {
   "cell_type": "code",
   "execution_count": 7,
   "metadata": {},
   "outputs": [],
   "source": [
    "def check_ontology_normalized(onto_dir):\n",
    "\n",
    "    onto = get_ontology(dir)\n",
    "    onto = onto.load()\n",
    "\n",
    "    if check_gcas_normalized(onto) and check_subclassof_normalized(onto):\n",
    "        print('')\n",
    "        print('================================================================================')\n",
    "        print('The ontology is in normal form.')"
   ]
  },
  {
   "cell_type": "code",
   "execution_count": 8,
   "metadata": {},
   "outputs": [
    {
     "name": "stdout",
     "output_type": "stream",
     "text": [
      "\n",
      "The ontologys General Class Axioms are in normal form.\n",
      "All 0 General Class Axioms were checked.\n",
      "\n",
      "The ontologys concept inclusions are normalized.\n",
      "All 2507 concept inclusions with concept names on the left side have been checked.\n",
      "\n",
      "================================================================================\n",
      "The ontology is in normal form.\n"
     ]
    }
   ],
   "source": [
    "check_ontology_normalized(dir)"
   ]
  },
  {
   "cell_type": "code",
   "execution_count": null,
   "metadata": {},
   "outputs": [],
   "source": []
  },
  {
   "cell_type": "code",
   "execution_count": null,
   "metadata": {},
   "outputs": [],
   "source": []
  },
  {
   "cell_type": "code",
   "execution_count": null,
   "metadata": {},
   "outputs": [],
   "source": []
  },
  {
   "cell_type": "code",
   "execution_count": null,
   "metadata": {},
   "outputs": [],
   "source": []
  }
 ],
 "metadata": {
  "kernelspec": {
   "display_name": "kgenv",
   "language": "python",
   "name": "python3"
  },
  "language_info": {
   "codemirror_mode": {
    "name": "ipython",
    "version": 3
   },
   "file_extension": ".py",
   "mimetype": "text/x-python",
   "name": "python",
   "nbconvert_exporter": "python",
   "pygments_lexer": "ipython3",
   "version": "3.11.3"
  }
 },
 "nbformat": 4,
 "nbformat_minor": 2
}
